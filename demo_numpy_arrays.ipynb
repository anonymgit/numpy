{
 "cells": [
  {
   "cell_type": "code",
   "execution_count": 1,
   "id": "3047e012",
   "metadata": {},
   "outputs": [],
   "source": [
    "import numpy as np"
   ]
  },
  {
   "cell_type": "code",
   "execution_count": 3,
   "id": "b681352d",
   "metadata": {},
   "outputs": [],
   "source": [
    "array_1d = np.array([1,2,3,4])  "
   ]
  },
  {
   "cell_type": "code",
   "execution_count": 4,
   "id": "ef16a610",
   "metadata": {},
   "outputs": [
    {
     "name": "stdout",
     "output_type": "stream",
     "text": [
      "[1 2 3 4]\n"
     ]
    }
   ],
   "source": [
    "print(array_1d) #printing the 1D array which we have declared before"
   ]
  },
  {
   "cell_type": "code",
   "execution_count": 5,
   "id": "c4e5419a",
   "metadata": {},
   "outputs": [
    {
     "data": {
      "text/plain": [
       "numpy.ndarray"
      ]
     },
     "execution_count": 5,
     "metadata": {},
     "output_type": "execute_result"
    }
   ],
   "source": [
    "type(array_1d) #checking the type of array"
   ]
  },
  {
   "cell_type": "code",
   "execution_count": 7,
   "id": "08518457",
   "metadata": {},
   "outputs": [
    {
     "data": {
      "text/plain": [
       "1"
      ]
     },
     "execution_count": 7,
     "metadata": {},
     "output_type": "execute_result"
    }
   ],
   "source": [
    "array_1d.ndim #it shows the dimension of arrays"
   ]
  },
  {
   "cell_type": "code",
   "execution_count": 10,
   "id": "ed4d11e1",
   "metadata": {},
   "outputs": [
    {
     "name": "stdout",
     "output_type": "stream",
     "text": [
      "[[1 2 3]\n",
      " [4 5 6]\n",
      " [7 8 9]]\n"
     ]
    }
   ],
   "source": [
    "#lets take example of 2d array\n",
    "array_2d=np.array([[1,2,3],[4,5,6],[7,8,9]])   #2d array is list of list ([\n",
    "                                                                        #   [x , y ,x]\n",
    "                                                                        #   [x',y',z']\n",
    "                                                                        #               ])\n",
    "print(array_2d)"
   ]
  },
  {
   "cell_type": "code",
   "execution_count": 11,
   "id": "3c23651a",
   "metadata": {},
   "outputs": [
    {
     "data": {
      "text/plain": [
       "2"
      ]
     },
     "execution_count": 11,
     "metadata": {},
     "output_type": "execute_result"
    }
   ],
   "source": [
    "array_2d.ndim  #checing dimension of array  #it will show 2"
   ]
  },
  {
   "cell_type": "code",
   "execution_count": 13,
   "id": "d8fbfb10",
   "metadata": {},
   "outputs": [
    {
     "name": "stdout",
     "output_type": "stream",
     "text": [
      "4\n",
      "9\n"
     ]
    }
   ],
   "source": [
    "#to print size of array use array_name.size(see below how)\n",
    "print(array_1d.size)\n",
    "print(array_2d.size)"
   ]
  },
  {
   "cell_type": "code",
   "execution_count": 14,
   "id": "7d382ade",
   "metadata": {},
   "outputs": [
    {
     "data": {
      "text/plain": [
       "(3, 3)"
      ]
     },
     "execution_count": 14,
     "metadata": {},
     "output_type": "execute_result"
    }
   ],
   "source": [
    "#if you want to check rows and columns of your array then python comes with shape keyword here(see below how)\n",
    "array_2d.shape    #we have declared above a 3*3 array thus it is showing 3*3 means 3 rows and 3 columns"
   ]
  },
  {
   "cell_type": "code",
   "execution_count": 16,
   "id": "ff825880",
   "metadata": {},
   "outputs": [
    {
     "data": {
      "text/plain": [
       "dtype('int32')"
      ]
     },
     "execution_count": 16,
     "metadata": {},
     "output_type": "execute_result"
    }
   ],
   "source": [
    "#suppose we have to check what data type array contains the we can you (dtype)\n",
    "array_2d.dtype  #it is showing we have integer type value in our array "
   ]
  }
 ],
 "metadata": {
  "kernelspec": {
   "display_name": "Python 3 (ipykernel)",
   "language": "python",
   "name": "python3"
  },
  "language_info": {
   "codemirror_mode": {
    "name": "ipython",
    "version": 3
   },
   "file_extension": ".py",
   "mimetype": "text/x-python",
   "name": "python",
   "nbconvert_exporter": "python",
   "pygments_lexer": "ipython3",
   "version": "3.9.1"
  }
 },
 "nbformat": 4,
 "nbformat_minor": 5
}
