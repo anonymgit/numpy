{
 "cells": [
  {
   "cell_type": "markdown",
   "id": "80f22444",
   "metadata": {},
   "source": [
    "# numpy functions"
   ]
  },
  {
   "cell_type": "code",
   "execution_count": 5,
   "id": "1082ca61",
   "metadata": {},
   "outputs": [],
   "source": [
    "import numpy as np;"
   ]
  },
  {
   "cell_type": "markdown",
   "id": "88733441",
   "metadata": {},
   "source": [
    "# #arange()"
   ]
  },
  {
   "cell_type": "code",
   "execution_count": 6,
   "id": "85cd95f9",
   "metadata": {},
   "outputs": [
    {
     "name": "stdout",
     "output_type": "stream",
     "text": [
      "[0 1 2 3 4 5 6 7 8 9]\n"
     ]
    }
   ],
   "source": [
    "a1=np.arange(10)  #syntax   np.arange(start,end,steps,dtype)  ,it will amke an 1d array of 0 to 9\n",
    "print(a1)"
   ]
  },
  {
   "cell_type": "code",
   "execution_count": 7,
   "id": "aae291b6",
   "metadata": {},
   "outputs": [
    {
     "name": "stdout",
     "output_type": "stream",
     "text": [
      "[0 2 4 6 8]\n"
     ]
    }
   ],
   "source": [
    "#lets create array by gapping some elements as in function arguments steps have to pass there\n",
    "even_ar=np.arange(0,10,2)\n",
    "print(even_ar)"
   ]
  },
  {
   "cell_type": "code",
   "execution_count": 12,
   "id": "52630295",
   "metadata": {},
   "outputs": [
    {
     "name": "stdout",
     "output_type": "stream",
     "text": [
      "[1 3 5 7 9]\n"
     ]
    }
   ],
   "source": [
    "odd_ar=np.arange(1,10,2)\n",
    "print(odd_ar)"
   ]
  },
  {
   "cell_type": "markdown",
   "id": "5dbc674b",
   "metadata": {},
   "source": [
    "# # linspace()"
   ]
  },
  {
   "cell_type": "code",
   "execution_count": 13,
   "id": "07be11f8",
   "metadata": {},
   "outputs": [
    {
     "name": "stdout",
     "output_type": "stream",
     "text": [
      "[  0.           2.04081633   4.08163265   6.12244898   8.16326531\n",
      "  10.20408163  12.24489796  14.28571429  16.32653061  18.36734694\n",
      "  20.40816327  22.44897959  24.48979592  26.53061224  28.57142857\n",
      "  30.6122449   32.65306122  34.69387755  36.73469388  38.7755102\n",
      "  40.81632653  42.85714286  44.89795918  46.93877551  48.97959184\n",
      "  51.02040816  53.06122449  55.10204082  57.14285714  59.18367347\n",
      "  61.2244898   63.26530612  65.30612245  67.34693878  69.3877551\n",
      "  71.42857143  73.46938776  75.51020408  77.55102041  79.59183673\n",
      "  81.63265306  83.67346939  85.71428571  87.75510204  89.79591837\n",
      "  91.83673469  93.87755102  95.91836735  97.95918367 100.        ]\n"
     ]
    }
   ],
   "source": [
    "arr_linspace=np.linspace(0,100)\n",
    "print(arr_linspace)"
   ]
  },
  {
   "cell_type": "markdown",
   "id": "be7a372c",
   "metadata": {},
   "source": [
    "## logspace ()"
   ]
  },
  {
   "cell_type": "code",
   "execution_count": 15,
   "id": "c2a147f6",
   "metadata": {},
   "outputs": [
    {
     "name": "stdout",
     "output_type": "stream",
     "text": [
      "[1.00000000e+00 2.55954792e+00 6.55128557e+00 1.67683294e+01\n",
      " 4.29193426e+01 1.09854114e+02 2.81176870e+02 7.19685673e+02\n",
      " 1.84206997e+03 4.71486636e+03 1.20679264e+04 3.08884360e+04\n",
      " 7.90604321e+04 2.02358965e+05 5.17947468e+05 1.32571137e+06\n",
      " 3.39322177e+06 8.68511374e+06 2.22299648e+07 5.68986603e+07\n",
      " 1.45634848e+08 3.72759372e+08 9.54095476e+08 2.44205309e+09\n",
      " 6.25055193e+09 1.59985872e+10 4.09491506e+10 1.04811313e+11\n",
      " 2.68269580e+11 6.86648845e+11 1.75751062e+12 4.49843267e+12\n",
      " 1.15139540e+13 2.94705170e+13 7.54312006e+13 1.93069773e+14\n",
      " 4.94171336e+14 1.26485522e+15 3.23745754e+15 8.28642773e+15\n",
      " 2.12095089e+16 5.42867544e+16 1.38949549e+17 3.55648031e+17\n",
      " 9.10298178e+17 2.32995181e+18 5.96362332e+18 1.52641797e+19\n",
      " 3.90693994e+19 1.00000000e+20]\n"
     ]
    }
   ],
   "source": [
    "arr_logspace=np.logspace(0,20)\n",
    "print(arr_logspace)"
   ]
  },
  {
   "cell_type": "markdown",
   "id": "4c719446",
   "metadata": {},
   "source": [
    "# #reshape()"
   ]
  },
  {
   "cell_type": "code",
   "execution_count": 35,
   "id": "a6af040f",
   "metadata": {},
   "outputs": [
    {
     "name": "stdout",
     "output_type": "stream",
     "text": [
      "[[0 1]\n",
      " [2 3]\n",
      " [4 5]\n",
      " [6 7]\n",
      " [8 9]]\n"
     ]
    }
   ],
   "source": [
    "a2=a1.reshape(5,2)  #rehaped 1d array in 2d array\n",
    "print(a2)"
   ]
  },
  {
   "cell_type": "code",
   "execution_count": 27,
   "id": "88d63a15",
   "metadata": {},
   "outputs": [
    {
     "name": "stdout",
     "output_type": "stream",
     "text": [
      "[[[0]\n",
      "  [1]]\n",
      "\n",
      " [[2]\n",
      "  [3]]\n",
      "\n",
      " [[4]\n",
      "  [5]]\n",
      "\n",
      " [[6]\n",
      "  [7]]\n",
      "\n",
      " [[8]\n",
      "  [9]]]\n"
     ]
    }
   ],
   "source": [
    "a3=a2.reshape(5,2,1)\n",
    "print(a3)"
   ]
  },
  {
   "cell_type": "markdown",
   "id": "a20e0e4c",
   "metadata": {},
   "source": [
    "# # ravel()  it is used to create multidimensional array to 1D array"
   ]
  },
  {
   "cell_type": "code",
   "execution_count": 28,
   "id": "bc17c3c3",
   "metadata": {},
   "outputs": [
    {
     "data": {
      "text/plain": [
       "array([0, 1, 2, 3, 4, 5, 6, 7, 8, 9])"
      ]
     },
     "execution_count": 28,
     "metadata": {},
     "output_type": "execute_result"
    }
   ],
   "source": [
    "a3.ravel()"
   ]
  },
  {
   "cell_type": "markdown",
   "id": "d43aca45",
   "metadata": {},
   "source": [
    "# flatten()"
   ]
  },
  {
   "cell_type": "code",
   "execution_count": 34,
   "id": "a84efc0c",
   "metadata": {},
   "outputs": [
    {
     "name": "stdout",
     "output_type": "stream",
     "text": [
      "[0 1 2 3 4 5 6 7 8 9]\n"
     ]
    }
   ],
   "source": [
    "print(a3.flatten('K'))  #use shift tab to check passing arguments"
   ]
  },
  {
   "cell_type": "markdown",
   "id": "151b70c0",
   "metadata": {},
   "source": [
    "# transpose()"
   ]
  },
  {
   "cell_type": "code",
   "execution_count": 36,
   "id": "c48f334e",
   "metadata": {},
   "outputs": [
    {
     "data": {
      "text/plain": [
       "array([[0, 2, 4, 6, 8],\n",
       "       [1, 3, 5, 7, 9]])"
      ]
     },
     "execution_count": 36,
     "metadata": {},
     "output_type": "execute_result"
    }
   ],
   "source": [
    "a2.transpose()"
   ]
  },
  {
   "cell_type": "code",
   "execution_count": 37,
   "id": "0d6c0750",
   "metadata": {},
   "outputs": [
    {
     "data": {
      "text/plain": [
       "array([[0, 2, 4, 6, 8],\n",
       "       [1, 3, 5, 7, 9]])"
      ]
     },
     "execution_count": 37,
     "metadata": {},
     "output_type": "execute_result"
    }
   ],
   "source": [
    "#or we can use array_name.T\n",
    "a2.T"
   ]
  },
  {
   "cell_type": "code",
   "execution_count": 38,
   "id": "2ba81b0b",
   "metadata": {},
   "outputs": [
    {
     "name": "stdout",
     "output_type": "stream",
     "text": [
      "[[0 2 4 6 8]\n",
      " [1 3 5 7 9]]\n"
     ]
    }
   ],
   "source": [
    "print(a2.T)"
   ]
  },
  {
   "cell_type": "markdown",
   "id": "985d6476",
   "metadata": {},
   "source": [
    "# eye()"
   ]
  },
  {
   "cell_type": "code",
   "execution_count": 41,
   "id": "b1bc953c",
   "metadata": {},
   "outputs": [
    {
     "data": {
      "text/plain": [
       "array([[1, 0, 0],\n",
       "       [0, 1, 0],\n",
       "       [0, 0, 1]])"
      ]
     },
     "execution_count": 41,
     "metadata": {},
     "output_type": "execute_result"
    }
   ],
   "source": [
    "np.eye(3,dtype=int)"
   ]
  }
 ],
 "metadata": {
  "kernelspec": {
   "display_name": "Python 3 (ipykernel)",
   "language": "python",
   "name": "python3"
  },
  "language_info": {
   "codemirror_mode": {
    "name": "ipython",
    "version": 3
   },
   "file_extension": ".py",
   "mimetype": "text/x-python",
   "name": "python",
   "nbconvert_exporter": "python",
   "pygments_lexer": "ipython3",
   "version": "3.9.1"
  }
 },
 "nbformat": 4,
 "nbformat_minor": 5
}
