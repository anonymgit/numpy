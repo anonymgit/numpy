{
 "cells": [
  {
   "cell_type": "markdown",
   "id": "fd97e88c",
   "metadata": {},
   "source": [
    "# Mathematical operations as numpy"
   ]
  },
  {
   "cell_type": "code",
   "execution_count": 1,
   "id": "c8b3ef0d",
   "metadata": {},
   "outputs": [],
   "source": [
    "import numpy as np"
   ]
  },
  {
   "cell_type": "code",
   "execution_count": 8,
   "id": "25fac9b6",
   "metadata": {},
   "outputs": [
    {
     "name": "stdout",
     "output_type": "stream",
     "text": [
      "[11 13 15 17]\n",
      "[-1  0  1  2]\n"
     ]
    }
   ],
   "source": [
    "a1=np.array([1,2,3,4])\n",
    "a2=np.array([10,11,12,13])\n",
    "print(a1+a2)  #addition of 2 arrays\n",
    "print(a1-2)   #minus of 2 in every elemen\n",
    "\n"
   ]
  },
  {
   "cell_type": "code",
   "execution_count": 9,
   "id": "a7d26b4d",
   "metadata": {},
   "outputs": [
    {
     "data": {
      "text/plain": [
       "array([11, 13, 15, 17])"
      ]
     },
     "execution_count": 9,
     "metadata": {},
     "output_type": "execute_result"
    }
   ],
   "source": [
    "a1+a2  #addition"
   ]
  },
  {
   "cell_type": "code",
   "execution_count": 10,
   "id": "0a13c3c8",
   "metadata": {},
   "outputs": [
    {
     "data": {
      "text/plain": [
       "array([11, 13, 15, 17])"
      ]
     },
     "execution_count": 10,
     "metadata": {},
     "output_type": "execute_result"
    }
   ],
   "source": [
    "np.add(a1,a2)  #addition using inbuilt function"
   ]
  },
  {
   "cell_type": "code",
   "execution_count": 12,
   "id": "47ad44cb",
   "metadata": {},
   "outputs": [
    {
     "data": {
      "text/plain": [
       "array([9, 9, 9, 9])"
      ]
     },
     "execution_count": 12,
     "metadata": {},
     "output_type": "execute_result"
    }
   ],
   "source": [
    "a2-a1     #subtraction"
   ]
  },
  {
   "cell_type": "code",
   "execution_count": 13,
   "id": "f518c164",
   "metadata": {},
   "outputs": [
    {
     "data": {
      "text/plain": [
       "array([9, 9, 9, 9])"
      ]
     },
     "execution_count": 13,
     "metadata": {},
     "output_type": "execute_result"
    }
   ],
   "source": [
    "np.subtract(a2,a1)   #subtraction using inbuilt function"
   ]
  },
  {
   "cell_type": "code",
   "execution_count": 23,
   "id": "a0f6e93b",
   "metadata": {},
   "outputs": [
    {
     "name": "stdout",
     "output_type": "stream",
     "text": [
      "[[1 2 3]\n",
      " [4 5 6]\n",
      " [7 8 9]]\n",
      "[[1 2 3]\n",
      " [4 5 6]\n",
      " [7 8 9]]\n"
     ]
    }
   ],
   "source": [
    "arr1=np.arange(1,10).reshape(3,3)\n",
    "print(arr1)\n",
    "arr2=np.arange(1,10).reshape(3,3)\n",
    "print(arr2)"
   ]
  },
  {
   "cell_type": "code",
   "execution_count": 24,
   "id": "d56fcd00",
   "metadata": {},
   "outputs": [
    {
     "data": {
      "text/plain": [
       "array([[ 2,  4,  6],\n",
       "       [ 8, 10, 12],\n",
       "       [14, 16, 18]])"
      ]
     },
     "execution_count": 24,
     "metadata": {},
     "output_type": "execute_result"
    }
   ],
   "source": [
    "np.add(arr1,arr2)"
   ]
  },
  {
   "cell_type": "code",
   "execution_count": 25,
   "id": "a8324dd3",
   "metadata": {},
   "outputs": [
    {
     "data": {
      "text/plain": [
       "array([[ 1,  4,  9],\n",
       "       [16, 25, 36],\n",
       "       [49, 64, 81]])"
      ]
     },
     "execution_count": 25,
     "metadata": {},
     "output_type": "execute_result"
    }
   ],
   "source": [
    "arr1*arr2  #it will multiply arr by element"
   ]
  },
  {
   "cell_type": "code",
   "execution_count": 26,
   "id": "2efea254",
   "metadata": {},
   "outputs": [
    {
     "data": {
      "text/plain": [
       "array([[ 30,  36,  42],\n",
       "       [ 66,  81,  96],\n",
       "       [102, 126, 150]])"
      ]
     },
     "execution_count": 26,
     "metadata": {},
     "output_type": "execute_result"
    }
   ],
   "source": [
    "#if you want to multiply array by row and column wise\n",
    "arr1@arr2"
   ]
  },
  {
   "cell_type": "code",
   "execution_count": 27,
   "id": "2511040f",
   "metadata": {},
   "outputs": [
    {
     "data": {
      "text/plain": [
       "array([[1., 1., 1.],\n",
       "       [1., 1., 1.],\n",
       "       [1., 1., 1.]])"
      ]
     },
     "execution_count": 27,
     "metadata": {},
     "output_type": "execute_result"
    }
   ],
   "source": [
    "#division\n",
    "arr1/arr2"
   ]
  },
  {
   "cell_type": "code",
   "execution_count": 28,
   "id": "11048d73",
   "metadata": {},
   "outputs": [
    {
     "data": {
      "text/plain": [
       "array([[1., 1., 1.],\n",
       "       [1., 1., 1.],\n",
       "       [1., 1., 1.]])"
      ]
     },
     "execution_count": 28,
     "metadata": {},
     "output_type": "execute_result"
    }
   ],
   "source": [
    "np.divide(arr1,arr2)"
   ]
  },
  {
   "cell_type": "code",
   "execution_count": 32,
   "id": "e915cbff",
   "metadata": {},
   "outputs": [
    {
     "name": "stdout",
     "output_type": "stream",
     "text": [
      "9\n",
      "8\n"
     ]
    }
   ],
   "source": [
    "#max element of array\n",
    "print(arr1.max())\n",
    "#index of maximum element in array\n",
    "print(arr1.argmax())"
   ]
  },
  {
   "cell_type": "code",
   "execution_count": 34,
   "id": "3e765a28",
   "metadata": {},
   "outputs": [
    {
     "data": {
      "text/plain": [
       "array([3, 6, 9])"
      ]
     },
     "execution_count": 34,
     "metadata": {},
     "output_type": "execute_result"
    }
   ],
   "source": [
    "arr1.max(axis=1)   #it will give maximu from axis 1"
   ]
  },
  {
   "cell_type": "code",
   "execution_count": null,
   "id": "a56d6be2",
   "metadata": {},
   "outputs": [],
   "source": [
    "#similarly you can do it for find minimum element"
   ]
  },
  {
   "cell_type": "code",
   "execution_count": 36,
   "id": "32a36136",
   "metadata": {},
   "outputs": [
    {
     "data": {
      "text/plain": [
       "45"
      ]
     },
     "execution_count": 36,
     "metadata": {},
     "output_type": "execute_result"
    }
   ],
   "source": [
    "#addition of every element in array\n",
    "np.sum(arr1)"
   ]
  },
  {
   "cell_type": "code",
   "execution_count": 39,
   "id": "403fb114",
   "metadata": {},
   "outputs": [
    {
     "data": {
      "text/plain": [
       "array([ 6, 15, 24])"
      ]
     },
     "execution_count": 39,
     "metadata": {},
     "output_type": "execute_result"
    }
   ],
   "source": [
    "np.sum(arr1,axis=1)"
   ]
  },
  {
   "cell_type": "code",
   "execution_count": 40,
   "id": "669b5826",
   "metadata": {},
   "outputs": [
    {
     "data": {
      "text/plain": [
       "5.0"
      ]
     },
     "execution_count": 40,
     "metadata": {},
     "output_type": "execute_result"
    }
   ],
   "source": [
    "#avg of arrays we use mean function to find avg of array\n",
    "np.mean(arr1)"
   ]
  },
  {
   "cell_type": "code",
   "execution_count": 41,
   "id": "85fed593",
   "metadata": {},
   "outputs": [
    {
     "data": {
      "text/plain": [
       "10.0"
      ]
     },
     "execution_count": 41,
     "metadata": {},
     "output_type": "execute_result"
    }
   ],
   "source": [
    "np.mean(arr1+arr2)"
   ]
  },
  {
   "cell_type": "code",
   "execution_count": 42,
   "id": "353288c1",
   "metadata": {},
   "outputs": [
    {
     "data": {
      "text/plain": [
       "array([[1.        , 1.41421356, 1.73205081],\n",
       "       [2.        , 2.23606798, 2.44948974],\n",
       "       [2.64575131, 2.82842712, 3.        ]])"
      ]
     },
     "execution_count": 42,
     "metadata": {},
     "output_type": "execute_result"
    }
   ],
   "source": [
    "#sqrt\n",
    "np.sqrt(arr1)"
   ]
  },
  {
   "cell_type": "code",
   "execution_count": 43,
   "id": "ac76f99e",
   "metadata": {},
   "outputs": [
    {
     "data": {
      "text/plain": [
       "2.581988897471611"
      ]
     },
     "execution_count": 43,
     "metadata": {},
     "output_type": "execute_result"
    }
   ],
   "source": [
    "#std deviation\n",
    "np.std(arr1)"
   ]
  },
  {
   "cell_type": "code",
   "execution_count": 44,
   "id": "b19d1e4f",
   "metadata": {},
   "outputs": [
    {
     "data": {
      "text/plain": [
       "array([[2.71828183e+00, 7.38905610e+00, 2.00855369e+01],\n",
       "       [5.45981500e+01, 1.48413159e+02, 4.03428793e+02],\n",
       "       [1.09663316e+03, 2.98095799e+03, 8.10308393e+03]])"
      ]
     },
     "execution_count": 44,
     "metadata": {},
     "output_type": "execute_result"
    }
   ],
   "source": [
    "np.exp(arr1)"
   ]
  },
  {
   "cell_type": "code",
   "execution_count": 45,
   "id": "bd0a0c5f",
   "metadata": {},
   "outputs": [
    {
     "data": {
      "text/plain": [
       "array([[0.        , 0.69314718, 1.09861229],\n",
       "       [1.38629436, 1.60943791, 1.79175947],\n",
       "       [1.94591015, 2.07944154, 2.19722458]])"
      ]
     },
     "execution_count": 45,
     "metadata": {},
     "output_type": "execute_result"
    }
   ],
   "source": [
    "np.log(arr1)"
   ]
  },
  {
   "cell_type": "code",
   "execution_count": 46,
   "id": "c2fdbf8b",
   "metadata": {},
   "outputs": [
    {
     "data": {
      "text/plain": [
       "array([[0.        , 0.30103   , 0.47712125],\n",
       "       [0.60205999, 0.69897   , 0.77815125],\n",
       "       [0.84509804, 0.90308999, 0.95424251]])"
      ]
     },
     "execution_count": 46,
     "metadata": {},
     "output_type": "execute_result"
    }
   ],
   "source": [
    "np.log10(arr1)"
   ]
  }
 ],
 "metadata": {
  "kernelspec": {
   "display_name": "Python 3 (ipykernel)",
   "language": "python",
   "name": "python3"
  },
  "language_info": {
   "codemirror_mode": {
    "name": "ipython",
    "version": 3
   },
   "file_extension": ".py",
   "mimetype": "text/x-python",
   "name": "python",
   "nbconvert_exporter": "python",
   "pygments_lexer": "ipython3",
   "version": "3.9.1"
  }
 },
 "nbformat": 4,
 "nbformat_minor": 5
}
