{
 "cells": [
  {
   "cell_type": "markdown",
   "id": "6f11d03d",
   "metadata": {},
   "source": [
    "# Array comparisons"
   ]
  },
  {
   "cell_type": "code",
   "execution_count": 1,
   "id": "201c1f88",
   "metadata": {},
   "outputs": [],
   "source": [
    "import numpy as np"
   ]
  },
  {
   "cell_type": "code",
   "execution_count": 2,
   "id": "86aae5ec",
   "metadata": {},
   "outputs": [
    {
     "name": "stdout",
     "output_type": "stream",
     "text": [
      "[10 30 50 70 90]\n",
      "[ 20  40  60  80 100]\n"
     ]
    }
   ],
   "source": [
    "a1=np.arange(10,100,20)\n",
    "print(a1)\n",
    "a2=np.arange(20,110,20)\n",
    "print(a2)"
   ]
  },
  {
   "cell_type": "code",
   "execution_count": 3,
   "id": "15e68dcf",
   "metadata": {},
   "outputs": [
    {
     "name": "stdout",
     "output_type": "stream",
     "text": [
      "[False False False False False]\n"
     ]
    }
   ],
   "source": [
    "print(a1>a2)"
   ]
  },
  {
   "cell_type": "code",
   "execution_count": 4,
   "id": "4e327179",
   "metadata": {},
   "outputs": [
    {
     "name": "stdout",
     "output_type": "stream",
     "text": [
      "[ True  True  True  True  True]\n"
     ]
    }
   ],
   "source": [
    "print(a2>a1)"
   ]
  },
  {
   "cell_type": "code",
   "execution_count": 5,
   "id": "7cf0b9cb",
   "metadata": {},
   "outputs": [
    {
     "name": "stdout",
     "output_type": "stream",
     "text": [
      "[False False False False False]\n"
     ]
    }
   ],
   "source": [
    "print(a1>=a2)"
   ]
  },
  {
   "cell_type": "code",
   "execution_count": 6,
   "id": "639aa56a",
   "metadata": {},
   "outputs": [
    {
     "name": "stdout",
     "output_type": "stream",
     "text": [
      "[ True  True  True  True  True]\n"
     ]
    }
   ],
   "source": [
    "print(a2>=a1)"
   ]
  },
  {
   "cell_type": "code",
   "execution_count": 7,
   "id": "5145e429",
   "metadata": {},
   "outputs": [
    {
     "name": "stdout",
     "output_type": "stream",
     "text": [
      "[False False False False False]\n"
     ]
    }
   ],
   "source": [
    "print(a1==a2)"
   ]
  },
  {
   "cell_type": "code",
   "execution_count": 8,
   "id": "a6806fe8",
   "metadata": {},
   "outputs": [
    {
     "name": "stdout",
     "output_type": "stream",
     "text": [
      "[ True  True  True  True  True]\n"
     ]
    }
   ],
   "source": [
    "print(a2==a2)"
   ]
  },
  {
   "cell_type": "code",
   "execution_count": 9,
   "id": "54320d50",
   "metadata": {},
   "outputs": [
    {
     "name": "stdout",
     "output_type": "stream",
     "text": [
      "True\n"
     ]
    }
   ],
   "source": [
    "print(all(a1<=a2))"
   ]
  },
  {
   "cell_type": "code",
   "execution_count": 10,
   "id": "057d3a81",
   "metadata": {},
   "outputs": [],
   "source": [
    "#print(logical_and(a1>10,a1<101))\n",
    "#print(logical_or(a1>10,a1<101))"
   ]
  },
  {
   "cell_type": "markdown",
   "id": "1906ef44",
   "metadata": {},
   "source": [
    "# copying arrays"
   ]
  },
  {
   "cell_type": "code",
   "execution_count": 15,
   "id": "7476bb26",
   "metadata": {},
   "outputs": [
    {
     "name": "stdout",
     "output_type": "stream",
     "text": [
      "arr1 [1 2 3 4 5 6 7 8 9]\n",
      "arr2 [1 2 3 4 5 6 7 8 9]\n"
     ]
    }
   ],
   "source": [
    "arr1=np.arange(1,10)\n",
    "arr2=np.copy(arr1)\n",
    "print('arr1',arr1)\n",
    "print('arr2',arr2)"
   ]
  },
  {
   "cell_type": "code",
   "execution_count": null,
   "id": "70121911",
   "metadata": {},
   "outputs": [],
   "source": []
  }
 ],
 "metadata": {
  "kernelspec": {
   "display_name": "Python 3 (ipykernel)",
   "language": "python",
   "name": "python3"
  },
  "language_info": {
   "codemirror_mode": {
    "name": "ipython",
    "version": 3
   },
   "file_extension": ".py",
   "mimetype": "text/x-python",
   "name": "python",
   "nbconvert_exporter": "python",
   "pygments_lexer": "ipython3",
   "version": "3.9.1"
  }
 },
 "nbformat": 4,
 "nbformat_minor": 5
}
