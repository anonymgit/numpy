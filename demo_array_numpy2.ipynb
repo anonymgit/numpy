{
 "cells": [
  {
   "cell_type": "code",
   "execution_count": 1,
   "id": "9e11396c",
   "metadata": {},
   "outputs": [],
   "source": [
    "import numpy as np"
   ]
  },
  {
   "cell_type": "code",
   "execution_count": 4,
   "id": "2336bdd3",
   "metadata": {},
   "outputs": [
    {
     "name": "stdout",
     "output_type": "stream",
     "text": [
      "[[1 1 1]\n",
      " [1 1 1]\n",
      " [1 1 1]]\n"
     ]
    }
   ],
   "source": [
    "#lets create array of 1's\n",
    "arr_of_1=np.array([[1,1,1],[1,1,1],[1,1,1]])\n",
    "print(arr_of_1)"
   ]
  },
  {
   "cell_type": "code",
   "execution_count": 7,
   "id": "73f7c078",
   "metadata": {},
   "outputs": [
    {
     "name": "stdout",
     "output_type": "stream",
     "text": [
      "[1. 1. 1. 1. 1. 1. 1. 1. 1. 1. 1. 1. 1. 1. 1. 1. 1. 1. 1. 1. 1. 1. 1. 1.\n",
      " 1. 1. 1. 1. 1. 1. 1. 1. 1. 1. 1. 1. 1. 1. 1. 1. 1. 1. 1. 1. 1. 1. 1. 1.\n",
      " 1. 1. 1. 1. 1. 1. 1. 1. 1. 1. 1. 1. 1. 1. 1. 1. 1. 1. 1. 1. 1. 1. 1. 1.\n",
      " 1. 1. 1. 1. 1. 1. 1. 1. 1. 1. 1. 1. 1. 1. 1. 1. 1. 1. 1. 1. 1. 1. 1. 1.\n",
      " 1. 1. 1. 1.]\n"
     ]
    },
    {
     "data": {
      "text/plain": [
       "dtype('float64')"
      ]
     },
     "execution_count": 7,
     "metadata": {},
     "output_type": "execute_result"
    }
   ],
   "source": [
    "#suppose if we have to 100*100 of 1's array the we cant do it manually thus we have function in python\n",
    "arr=np.ones(100)\n",
    "print(arr)\n",
    "#data type check\n",
    "arr.dtype"
   ]
  },
  {
   "cell_type": "code",
   "execution_count": 8,
   "id": "641789a9",
   "metadata": {},
   "outputs": [
    {
     "name": "stdout",
     "output_type": "stream",
     "text": [
      "[[1. 1. 1. 1.]\n",
      " [1. 1. 1. 1.]\n",
      " [1. 1. 1. 1.]]\n"
     ]
    }
   ],
   "source": [
    "#suppose we have to make 3*4 array of 1\n",
    "new_arr=np.ones((3,4))\n",
    "print(new_arr)"
   ]
  },
  {
   "cell_type": "code",
   "execution_count": 10,
   "id": "03530dde",
   "metadata": {},
   "outputs": [
    {
     "name": "stdout",
     "output_type": "stream",
     "text": [
      "[[1 1 1 1]\n",
      " [1 1 1 1]\n",
      " [1 1 1 1]]\n"
     ]
    }
   ],
   "source": [
    "#above matrix contains float type data if we want integer type data then\n",
    "new_arr=np.ones((3,4),dtype=int)\n",
    "print(new_arr)"
   ]
  },
  {
   "cell_type": "code",
   "execution_count": 12,
   "id": "5f53ed7f",
   "metadata": {},
   "outputs": [
    {
     "name": "stdout",
     "output_type": "stream",
     "text": [
      "[[0 0 0 0]\n",
      " [0 0 0 0]\n",
      " [0 0 0 0]]\n"
     ]
    }
   ],
   "source": [
    "#similary if you want ot create element of zeros then you can \n",
    "arr_0s=np.zeros((3,4),dtype=int)\n",
    "print(arr_0s)"
   ]
  },
  {
   "cell_type": "code",
   "execution_count": 16,
   "id": "aa6ae733",
   "metadata": {},
   "outputs": [
    {
     "name": "stdout",
     "output_type": "stream",
     "text": [
      "[[False False False]\n",
      " [False False False]\n",
      " [False False False]]\n"
     ]
    }
   ],
   "source": [
    "#bool matrix\n",
    "arr_bool=np.zeros((3,3),dtype=bool) #if we use np.zeros then it will create false matrix inplace of zeros put ones to create true matirx\n",
    "print(arr_bool)"
   ]
  },
  {
   "cell_type": "code",
   "execution_count": 15,
   "id": "8c8df9b6",
   "metadata": {},
   "outputs": [
    {
     "name": "stdout",
     "output_type": "stream",
     "text": [
      "[[ True  True  True]\n",
      " [ True  True  True]\n",
      " [ True  True  True]]\n"
     ]
    }
   ],
   "source": [
    "arr_bool=np.ones((3,3),dtype=bool)\n",
    "print(arr_bool)"
   ]
  },
  {
   "cell_type": "code",
   "execution_count": 17,
   "id": "2d2becb3",
   "metadata": {},
   "outputs": [
    {
     "name": "stdout",
     "output_type": "stream",
     "text": [
      "[['' '' '']\n",
      " ['' '' '']\n",
      " ['' '' '']]\n"
     ]
    }
   ],
   "source": [
    "arr_str=np.zeros((3,3),dtype=str)\n",
    "print(arr_str)"
   ]
  },
  {
   "cell_type": "code",
   "execution_count": 18,
   "id": "08ae5511",
   "metadata": {},
   "outputs": [
    {
     "name": "stdout",
     "output_type": "stream",
     "text": [
      "[1. 1. 1. 1. 1. 1. 1. 1. 1. 1. 1. 1. 1. 1. 1. 1. 1. 1. 1. 1. 1. 1. 1. 1.\n",
      " 1. 1. 1. 1. 1. 1. 1. 1. 1. 1. 1. 1. 1. 1. 1. 1. 1. 1. 1. 1. 1. 1. 1. 1.\n",
      " 1. 1. 1. 1. 1. 1. 1. 1. 1. 1. 1. 1. 1. 1. 1. 1. 1. 1. 1. 1. 1. 1. 1. 1.\n",
      " 1. 1. 1. 1. 1. 1. 1. 1. 1. 1. 1. 1. 1. 1. 1. 1. 1. 1. 1. 1. 1. 1. 1. 1.\n",
      " 1. 1. 1. 1.]\n"
     ]
    }
   ],
   "source": [
    "arr_str=np.ones((3,3),dtype=str)\n",
    "print(arr)"
   ]
  },
  {
   "cell_type": "code",
   "execution_count": 19,
   "id": "2bd543f8",
   "metadata": {},
   "outputs": [
    {
     "name": "stdout",
     "output_type": "stream",
     "text": [
      "[[0.00000000e+000 0.00000000e+000 0.00000000e+000]\n",
      " [0.00000000e+000 0.00000000e+000 8.87341900e-321]\n",
      " [6.23057348e-307 1.42419530e-306 0.00000000e+000]]\n"
     ]
    }
   ],
   "source": [
    "#lets create a empty matrix\n",
    "arr_empty=np.empty((3,3))\n",
    "print(arr_empty)  #it will print with garbage values"
   ]
  },
  {
   "cell_type": "code",
   "execution_count": null,
   "id": "e1ced2df",
   "metadata": {},
   "outputs": [],
   "source": []
  }
 ],
 "metadata": {
  "kernelspec": {
   "display_name": "Python 3 (ipykernel)",
   "language": "python",
   "name": "python3"
  },
  "language_info": {
   "codemirror_mode": {
    "name": "ipython",
    "version": 3
   },
   "file_extension": ".py",
   "mimetype": "text/x-python",
   "name": "python",
   "nbconvert_exporter": "python",
   "pygments_lexer": "ipython3",
   "version": "3.9.1"
  }
 },
 "nbformat": 4,
 "nbformat_minor": 5
}
