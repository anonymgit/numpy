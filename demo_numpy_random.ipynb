{
 "cells": [
  {
   "cell_type": "markdown",
   "id": "a77699d2",
   "metadata": {},
   "source": [
    "# random()"
   ]
  },
  {
   "cell_type": "code",
   "execution_count": 2,
   "id": "f2e91883",
   "metadata": {},
   "outputs": [],
   "source": [
    "import numpy as np\n",
    "import random"
   ]
  },
  {
   "cell_type": "code",
   "execution_count": 3,
   "id": "0a085895",
   "metadata": {},
   "outputs": [
    {
     "data": {
      "text/plain": [
       "array([0.52708972, 0.21578205, 0.23477449, 0.46634562, 0.38320719,\n",
       "       0.16638949, 0.99780878, 0.37809201, 0.88013279, 0.36967903])"
      ]
     },
     "execution_count": 3,
     "metadata": {},
     "output_type": "execute_result"
    }
   ],
   "source": [
    "np.random.random(10)"
   ]
  },
  {
   "cell_type": "code",
   "execution_count": 4,
   "id": "eb001907",
   "metadata": {},
   "outputs": [
    {
     "name": "stdout",
     "output_type": "stream",
     "text": [
      "[0.91308751]\n"
     ]
    }
   ],
   "source": [
    "print(np.random.random(1))"
   ]
  },
  {
   "cell_type": "code",
   "execution_count": 7,
   "id": "f45748d9",
   "metadata": {},
   "outputs": [
    {
     "data": {
      "text/plain": [
       "array([[0.53351834, 0.1998754 , 0.89624919],\n",
       "       [0.42575314, 0.56735039, 0.75960828],\n",
       "       [0.46384024, 0.66578658, 0.98297755]])"
      ]
     },
     "execution_count": 7,
     "metadata": {},
     "output_type": "execute_result"
    }
   ],
   "source": [
    "np.random.random((3,3))"
   ]
  },
  {
   "cell_type": "code",
   "execution_count": 9,
   "id": "a0894c48",
   "metadata": {},
   "outputs": [
    {
     "data": {
      "text/plain": [
       "2"
      ]
     },
     "execution_count": 9,
     "metadata": {},
     "output_type": "execute_result"
    }
   ],
   "source": [
    "np.random.randint(1,4)   #give us a random integer value with in the given range"
   ]
  },
  {
   "cell_type": "code",
   "execution_count": 12,
   "id": "7e89faf3",
   "metadata": {},
   "outputs": [
    {
     "data": {
      "text/plain": [
       "array([[3, 3, 3, 3],\n",
       "       [1, 1, 2, 3],\n",
       "       [2, 1, 3, 2],\n",
       "       [2, 3, 1, 1]])"
      ]
     },
     "execution_count": 12,
     "metadata": {},
     "output_type": "execute_result"
    }
   ],
   "source": [
    "np.random.randint(1,4,(4,4)) #creating 2d array using random"
   ]
  },
  {
   "cell_type": "code",
   "execution_count": 13,
   "id": "07c9b720",
   "metadata": {},
   "outputs": [
    {
     "data": {
      "text/plain": [
       "array([[[3, 2, 3, 1],\n",
       "        [2, 3, 2, 2],\n",
       "        [3, 3, 2, 2],\n",
       "        [1, 1, 1, 3]],\n",
       "\n",
       "       [[3, 3, 3, 3],\n",
       "        [3, 3, 3, 3],\n",
       "        [2, 1, 2, 3],\n",
       "        [3, 3, 3, 2]]])"
      ]
     },
     "execution_count": 13,
     "metadata": {},
     "output_type": "execute_result"
    }
   ],
   "source": [
    "np.random.randint(1,4,(2,4,4))  # creating 3d array using random"
   ]
  },
  {
   "cell_type": "code",
   "execution_count": 16,
   "id": "d93929a3",
   "metadata": {},
   "outputs": [
    {
     "data": {
      "text/plain": [
       "array([[[2, 2, 1, 1],\n",
       "        [2, 1, 2, 2],\n",
       "        [1, 2, 2, 3],\n",
       "        [1, 2, 1, 3]],\n",
       "\n",
       "       [[1, 3, 1, 1],\n",
       "        [1, 3, 1, 3],\n",
       "        [3, 2, 1, 1],\n",
       "        [3, 2, 3, 2]]])"
      ]
     },
     "execution_count": 16,
     "metadata": {},
     "output_type": "execute_result"
    }
   ],
   "source": [
    "np.random.seed(10)\n",
    "np.random.randint(1,4,(2,4,4))"
   ]
  },
  {
   "cell_type": "code",
   "execution_count": 17,
   "id": "9b5117c4",
   "metadata": {},
   "outputs": [
    {
     "data": {
      "text/plain": [
       "2"
      ]
     },
     "execution_count": 17,
     "metadata": {},
     "output_type": "execute_result"
    }
   ],
   "source": [
    "x=[1,2,3,4]\n",
    "np.random.choice(x)"
   ]
  },
  {
   "cell_type": "code",
   "execution_count": 18,
   "id": "895963fe",
   "metadata": {},
   "outputs": [
    {
     "name": "stdout",
     "output_type": "stream",
     "text": [
      "2\n",
      "4\n",
      "2\n",
      "3\n",
      "2\n",
      "1\n",
      "3\n",
      "3\n",
      "3\n",
      "2\n",
      "1\n",
      "2\n",
      "4\n",
      "2\n",
      "1\n",
      "4\n",
      "3\n",
      "2\n",
      "2\n",
      "3\n"
     ]
    }
   ],
   "source": [
    "for i in range(20):\n",
    "    print(np.random.choice(x))"
   ]
  },
  {
   "cell_type": "code",
   "execution_count": 19,
   "id": "0ee4b6ff",
   "metadata": {},
   "outputs": [
    {
     "data": {
      "text/plain": [
       "array([2, 1, 3, 4])"
      ]
     },
     "execution_count": 19,
     "metadata": {},
     "output_type": "execute_result"
    }
   ],
   "source": [
    "np.random.permutation(x)"
   ]
  },
  {
   "cell_type": "code",
   "execution_count": null,
   "id": "588729c1",
   "metadata": {},
   "outputs": [],
   "source": []
  }
 ],
 "metadata": {
  "kernelspec": {
   "display_name": "Python 3 (ipykernel)",
   "language": "python",
   "name": "python3"
  },
  "language_info": {
   "codemirror_mode": {
    "name": "ipython",
    "version": 3
   },
   "file_extension": ".py",
   "mimetype": "text/x-python",
   "name": "python",
   "nbconvert_exporter": "python",
   "pygments_lexer": "ipython3",
   "version": "3.9.1"
  }
 },
 "nbformat": 4,
 "nbformat_minor": 5
}
